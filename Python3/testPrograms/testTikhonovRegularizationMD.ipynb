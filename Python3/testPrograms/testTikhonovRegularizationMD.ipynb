{
 "cells": [
  {
   "cell_type": "code",
   "execution_count": 1,
   "id": "c8e6cd32",
   "metadata": {},
   "outputs": [
    {
     "ename": "NameError",
     "evalue": "name 'np' is not defined",
     "output_type": "error",
     "traceback": [
      "\u001b[0;31m---------------------------------------------------------------------------\u001b[0m",
      "\u001b[0;31mNameError\u001b[0m                                 Traceback (most recent call last)",
      "\u001b[0;32m/var/folders/c_/n49dqf053b1bxw4vyshdg5qm0000gn/T/ipykernel_32051/2835594118.py\u001b[0m in \u001b[0;36m<module>\u001b[0;34m\u001b[0m\n\u001b[1;32m     19\u001b[0m \u001b[0;31m#----- ---- --- -- -\u001b[0m\u001b[0;34m\u001b[0m\u001b[0;34m\u001b[0m\u001b[0;34m\u001b[0m\u001b[0m\n\u001b[1;32m     20\u001b[0m \u001b[0mtarget_snr_db\u001b[0m \u001b[0;34m=\u001b[0m \u001b[0;36m20\u001b[0m\u001b[0;34m\u001b[0m\u001b[0;34m\u001b[0m\u001b[0m\n\u001b[0;32m---> 21\u001b[0;31m \u001b[0mecg_clean\u001b[0m \u001b[0;34m=\u001b[0m \u001b[0mnp\u001b[0m\u001b[0;34m.\u001b[0m\u001b[0masanyarray\u001b[0m\u001b[0;34m(\u001b[0m\u001b[0mecg_clean\u001b[0m\u001b[0;34m)\u001b[0m\u001b[0;34m\u001b[0m\u001b[0;34m\u001b[0m\u001b[0m\n\u001b[0m\u001b[1;32m     22\u001b[0m \u001b[0mvar_n\u001b[0m \u001b[0;34m=\u001b[0m \u001b[0mnp\u001b[0m\u001b[0;34m.\u001b[0m\u001b[0mmean\u001b[0m\u001b[0;34m(\u001b[0m\u001b[0mecg_clean\u001b[0m\u001b[0;34m**\u001b[0m\u001b[0;36m2\u001b[0m\u001b[0;34m)\u001b[0m \u001b[0;34m/\u001b[0m \u001b[0;34m(\u001b[0m\u001b[0;36m10\u001b[0m\u001b[0;34m**\u001b[0m\u001b[0;34m(\u001b[0m\u001b[0mtarget_snr_db\u001b[0m\u001b[0;34m/\u001b[0m\u001b[0;36m10\u001b[0m\u001b[0;34m)\u001b[0m\u001b[0;34m)\u001b[0m\u001b[0;34m\u001b[0m\u001b[0;34m\u001b[0m\u001b[0m\n\u001b[1;32m     23\u001b[0m \u001b[0mn\u001b[0m \u001b[0;34m=\u001b[0m \u001b[0mnp\u001b[0m\u001b[0;34m.\u001b[0m\u001b[0mrandom\u001b[0m\u001b[0;34m.\u001b[0m\u001b[0mnormal\u001b[0m\u001b[0;34m(\u001b[0m\u001b[0;36m0\u001b[0m\u001b[0;34m,\u001b[0m \u001b[0mnp\u001b[0m\u001b[0;34m.\u001b[0m\u001b[0msqrt\u001b[0m\u001b[0;34m(\u001b[0m\u001b[0mvar_n\u001b[0m\u001b[0;34m)\u001b[0m\u001b[0;34m,\u001b[0m \u001b[0mlen\u001b[0m\u001b[0;34m(\u001b[0m\u001b[0mecg_clean\u001b[0m\u001b[0;34m)\u001b[0m\u001b[0;34m)\u001b[0m\u001b[0;34m\u001b[0m\u001b[0;34m\u001b[0m\u001b[0m\n",
      "\u001b[0;31mNameError\u001b[0m: name 'np' is not defined"
     ]
    }
   ],
   "source": [
    "import os\n",
    "data_dir = os.getcwd() + '/../QTDataBase/'              # data (records) directory\n",
    "data_files = os.listdir(data_dir)                       # get a listing of the directory, i.e. the records names\n",
    "dat_files = [x.split('.')[0] for x in data_files]\n",
    "#----- ---- --- -- -\n",
    "file_name = 'sele0612'                                  # 'sele0603' 'sele0612' 'sel41' 'sele0122'\n",
    "                                                        # 'sel40' 'sele0303'\n",
    "file_to_read = data_dir + file_name\n",
    "#----- ---- --- -- -\n",
    "import wfdb\n",
    "signals, fields = wfdb.rdsamp(file_to_read, sampfrom = 0)\n",
    "fs = fields[\"fs\"]\n",
    "ch_num = 0\n",
    "s = signals[:, ch_num]\n",
    "#----- ---- --- -- -\n",
    "n_sec = 5\n",
    "N = n_sec * fs\n",
    "ecg_clean = s[0 : N]\n",
    "#----- ---- --- -- -\n",
    "target_snr_db = 20\n",
    "import numpy as np\n",
    "ecg_clean = np.asanyarray(ecg_clean)\n",
    "var_n = np.mean(ecg_clean**2) / (10**(target_snr_db/10))\n",
    "n = np.random.normal(0, np.sqrt(var_n), len(ecg_clean))    \n",
    "ecg = ecg_clean + n "
   ]
  },
  {
   "cell_type": "code",
   "execution_count": null,
   "id": "613e6a77",
   "metadata": {},
   "outputs": [],
   "source": [
    "DiffOrderOrFilterCoefs = 4\n",
    "Lambda = 0.3"
   ]
  },
  {
   "cell_type": "code",
   "execution_count": null,
   "id": "f99d30c9",
   "metadata": {},
   "outputs": [],
   "source": [
    "print('DiffOrderOrFilterCoefs = ', DiffOrderOrFilterCoefs)\n",
    "print('Lambda = ', Lambda)"
   ]
  },
  {
   "cell_type": "code",
   "execution_count": null,
   "id": "02c366ce",
   "metadata": {},
   "outputs": [],
   "source": [
    "from TikhonovRegularization import TikhonovRegularization\n",
    "y = TikhonovRegularization(ecg, DiffOrderOrFilterCoefs, Lambda)"
   ]
  },
  {
   "cell_type": "code",
   "execution_count": null,
   "id": "bd336a27",
   "metadata": {},
   "outputs": [],
   "source": [
    "import matplotlib.pyplot as plt\n",
    "fig = plt.figure(figsize = (22, 8))\n",
    "plt.subplot(2, 1, 1)\n",
    "plt.plot(ecg, label = 'ecg')\n",
    "plt.plot(y,label = 'ecg reconstructed')\n",
    "plt.legend(fontsize = 12, loc = 1)\n",
    "\n",
    "plt.subplot(2, 1, 2)\n",
    "plt.plot(ecg_clean, label = 'ecg clean')\n",
    "plt.plot(y,label = 'ecg reconstructed')\n",
    "plt.legend(fontsize = 12, loc = 1)"
   ]
  }
 ],
 "metadata": {
  "kernelspec": {
   "display_name": "Python 3 (ipykernel)",
   "language": "python",
   "name": "python3"
  },
  "language_info": {
   "codemirror_mode": {
    "name": "ipython",
    "version": 3
   },
   "file_extension": ".py",
   "mimetype": "text/x-python",
   "name": "python",
   "nbconvert_exporter": "python",
   "pygments_lexer": "ipython3",
   "version": "3.7.13"
  }
 },
 "nbformat": 4,
 "nbformat_minor": 5
}
